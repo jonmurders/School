{
  "nbformat": 4,
  "nbformat_minor": 0,
  "metadata": {
    "colab": {
      "name": "3D-Printer-Nozzle.ipynb",
      "provenance": [],
      "authorship_tag": "ABX9TyNZMzUYHa58HxKCkc8Jcz9W",
      "include_colab_link": true
    },
    "kernelspec": {
      "name": "python3",
      "display_name": "Python 3"
    }
  },
  "cells": [
    {
      "cell_type": "markdown",
      "metadata": {
        "id": "view-in-github",
        "colab_type": "text"
      },
      "source": [
        "<a href=\"https://colab.research.google.com/github/jonmurders/School/blob/master/3D_Printer_Nozzle.ipynb\" target=\"_parent\"><img src=\"https://colab.research.google.com/assets/colab-badge.svg\" alt=\"Open In Colab\"/></a>"
      ]
    },
    {
      "cell_type": "code",
      "metadata": {
        "id": "fevqG0YlyAxI",
        "colab_type": "code",
        "colab": {}
      },
      "source": [
        "import pandas as pd\n",
        "import plotly\n",
        "import plotly.express as px\n",
        "from google.colab import files"
      ],
      "execution_count": 0,
      "outputs": []
    },
    {
      "cell_type": "code",
      "metadata": {
        "id": "Wgz9CwDhzIyE",
        "colab_type": "code",
        "colab": {}
      },
      "source": [
        "data = pd.DataFrame(data=None,\n",
        "                    columns=['Melting Point','Thermal Conductivity','Tensile Strength','Density'],\n",
        "                    )\n",
        "# data.index = data.Material\n",
        "# data.head()"
      ],
      "execution_count": 0,
      "outputs": []
    },
    {
      "cell_type": "code",
      "metadata": {
        "id": "kijadrC9z19w",
        "colab_type": "code",
        "colab": {}
      },
      "source": [
        "# #data.Material = ['Cast Iron',\n",
        "#                   'High Carbon Steel',\n",
        "#                   'Low Alloy Steel',\n",
        "#                   'Low Carbon Steel',\n",
        "#                   'Medium Carbon Steel',\n",
        "#                   'Stainless Steel',\n",
        "#                   'Aluminum Alloys',\n",
        "#                   'Copper Alloys',\n",
        "#                   'Lead Alloys',\n",
        "#                   'Magnesium Alloys',\n",
        "#                   'Nickel Alloys',\n",
        "#                   'Silver Alloys',\n",
        "#                   'Tin',\n",
        "#                   'Titanium Alloys',\n",
        "#                   'Tungsten Alloys',\n",
        "#                   'Zinc Alloys',\n",
        "#                   ]"
      ],
      "execution_count": 0,
      "outputs": []
    },
    {
      "cell_type": "code",
      "metadata": {
        "id": "5MtK9tGv2ssL",
        "colab_type": "code",
        "outputId": "821d8092-8f01-4010-ef16-5eb199996ed8",
        "colab": {
          "base_uri": "https://localhost:8080/",
          "height": 49
        }
      },
      "source": [
        "data.head()"
      ],
      "execution_count": 0,
      "outputs": [
        {
          "output_type": "execute_result",
          "data": {
            "text/html": [
              "<div>\n",
              "<style scoped>\n",
              "    .dataframe tbody tr th:only-of-type {\n",
              "        vertical-align: middle;\n",
              "    }\n",
              "\n",
              "    .dataframe tbody tr th {\n",
              "        vertical-align: top;\n",
              "    }\n",
              "\n",
              "    .dataframe thead th {\n",
              "        text-align: right;\n",
              "    }\n",
              "</style>\n",
              "<table border=\"1\" class=\"dataframe\">\n",
              "  <thead>\n",
              "    <tr style=\"text-align: right;\">\n",
              "      <th></th>\n",
              "      <th>Melting Point</th>\n",
              "      <th>Thermal Conductivity</th>\n",
              "      <th>Tensile Strength</th>\n",
              "      <th>Density</th>\n",
              "    </tr>\n",
              "  </thead>\n",
              "  <tbody>\n",
              "  </tbody>\n",
              "</table>\n",
              "</div>"
            ],
            "text/plain": [
              "Empty DataFrame\n",
              "Columns: [Melting Point, Thermal Conductivity, Tensile Strength, Density]\n",
              "Index: []"
            ]
          },
          "metadata": {
            "tags": []
          },
          "execution_count": 4
        }
      ]
    },
    {
      "cell_type": "code",
      "metadata": {
        "id": "FzxY961t2u0V",
        "colab_type": "code",
        "colab": {}
      },
      "source": [
        "data.loc['Cast Iron','Melting Point'] = 1100\n",
        "data.loc['High Carbon Steel','Melting Point'] = 1300\n",
        "data.loc['Low Alloy Steel','Melting Point'] = 1400\n",
        "data.loc['Low Carbon Steel','Melting Point'] = 1470\n",
        "data.loc['Medium Carbon Steel','Melting Point'] = 1400\n",
        "data.loc['Stainless Steel','Melting Point'] = 1350\n",
        "data.loc['Aluminum Alloys','Melting Point'] = 470\n",
        "data.loc['Copper Alloys','Melting Point'] = 980\n",
        "data.loc['Lead Alloys','Melting Point'] = 320\n",
        "data.loc['Magnesium Alloys','Melting Point'] = 450\n",
        "data.loc['Nickel Alloys','Melting Point'] = 1400\n",
        "# data.loc['Silver','Melting Point'] = 960\n",
        "data.loc['Tin','Melting Point'] = 230\n",
        "data.loc['Titanium Alloys','Melting Point'] = 1500\n",
        "data.loc['Tungsten Alloys','Melting Point'] = 3200\n",
        "data.loc['Zinc Alloys','Melting Point'] = 370\n",
        "data.loc['Borosilicate Glass','Melting Point'] = 450\n",
        "data.loc['Silica Glass','Melting Point'] = 960\n",
        "# data.loc['Soda Lime Glass','Melting Point'] = 440\n",
        "data.loc['Alumina','Melting Point'] = 200\n",
        "data.loc['Aluminium Nitride','Melting Point'] = 2400\n",
        "data.loc['Silicon','Melting Point'] = 1400\n",
        "data.loc['Silicon Carbide','Melting Point'] = 2200\n",
        "data.loc['Tungsten Carbide','Melting Point'] = 2800\n",
        "data.loc['Brick','Melting Point'] = 930\n",
        "data.loc['Concrete','Melting Point'] = 930\n",
        "data.loc['Stone','Melting Point'] = 1200\n"
      ],
      "execution_count": 0,
      "outputs": []
    },
    {
      "cell_type": "code",
      "metadata": {
        "id": "jzsFbN8-8Lin",
        "colab_type": "code",
        "colab": {}
      },
      "source": [
        "data.loc['Cast Iron','Thermal Conductivity'] = 29\n",
        "data.loc['High Carbon Steel','Thermal Conductivity'] = 40\n",
        "data.loc['Low Alloy Steel','Thermal Conductivity'] = 34\n",
        "data.loc['Low Carbon Steel','Thermal Conductivity'] = 34\n",
        "data.loc['Medium Carbon Steel','Thermal Conductivity'] = 45\n",
        "data.loc['Stainless Steel','Thermal Conductivity'] = 12\n",
        "data.loc['Aluminum Alloys','Thermal Conductivity'] = 76\n",
        "data.loc['Copper Alloys','Thermal Conductivity'] = 160\n",
        "data.loc['Lead Alloys','Thermal Conductivity'] = 22\n",
        "data.loc['Magnesium Alloys','Thermal Conductivity'] = 50\n",
        "data.loc['Nickel Alloys','Thermal Conductivity'] = 67\n",
        "# data.loc['Silver','Thermal Conductivity'] = 420\n",
        "data.loc['Tin','Thermal Conductivity'] = 60\n",
        "data.loc['Titanium Alloys','Thermal Conductivity'] = 7\n",
        "data.loc['Tungsten Alloys','Thermal Conductivity'] = 100\n",
        "data.loc['Zinc Alloys','Thermal Conductivity'] = 100\n",
        "data.loc['Borosilicate Glass','Thermal Conductivity'] = 1\n",
        "data.loc['Silica Glass','Thermal Conductivity'] = 1.4\n",
        "# data.loc['Soda Lime Glass','Thermal Conductivity'] = 2400\n",
        "data.loc['Alumina','Thermal Conductivity'] = 26\n",
        "data.loc['Aluminium Nitride','Thermal Conductivity'] = 140\n",
        "data.loc['Silicon','Thermal Conductivity'] = 140\n",
        "data.loc['Silicon Carbide','Thermal Conductivity'] = 80\n",
        "data.loc['Tungsten Carbide','Thermal Conductivity'] = .55\n",
        "data.loc['Brick','Thermal Conductivity'] = .46\n",
        "data.loc['Concrete','Thermal Conductivity'] = .8\n",
        "data.loc['Stone','Thermal Conductivity'] = 5.4"
      ],
      "execution_count": 0,
      "outputs": []
    },
    {
      "cell_type": "code",
      "metadata": {
        "id": "Jh6qaarm_Ovj",
        "colab_type": "code",
        "colab": {}
      },
      "source": [
        "#HBHB = TS/3.45\n",
        "data.loc['Cast Iron','Tensile Strength'] = 410\n",
        "data.loc['High Carbon Steel','Tensile Strength'] = 550\n",
        "data.loc['Low Alloy Steel','Tensile Strength'] = 550\n",
        "data.loc['Low Carbon Steel','Tensile Strength'] = 350\n",
        "data.loc['Medium Carbon Steel','Tensile Strength'] = 410\n",
        "data.loc['Stainless Steel','Tensile Strength'] = 480\n",
        "data.loc['Aluminum Alloys','Tensile Strength'] = 58\n",
        "data.loc['Copper Alloys','Tensile Strength'] = 100\n",
        "data.loc['Lead Alloys','Tensile Strength'] = 12\n",
        "data.loc['Magnesium Alloys','Tensile Strength'] = 190\n",
        "data.loc['Nickel Alloys','Tensile Strength'] = 350\n",
        "# data.loc['Silver','Tensile Strength'] = 260\n",
        "data.loc['Tin','Tensile Strength'] = 11\n",
        "data.loc['Titanium Alloys','Tensile Strength'] = 300\n",
        "data.loc['Tungsten Alloys','Tensile Strength'] = 720\n",
        "data.loc['Zinc Alloys','Tensile Strength'] = 140\n",
        "data.loc['Borosilicate Glass','Tensile Strength'] = 22\n",
        "data.loc['Silica Glass','Tensile Strength'] = 45\n",
        "# data.loc['Soda Lime Glass','Tensile Strength'] = 31\n",
        "data.loc['Alumina','Tensile Strength'] = 350\n",
        "data.loc['Aluminium Nitride','Tensile Strength'] = 300\n",
        "data.loc['Silicon','Tensile Strength'] = 160\n",
        "data.loc['Silicon Carbide','Tensile Strength'] = 400\n",
        "data.loc['Tungsten Carbide','Tensile Strength'] = 310\n",
        "data.loc['Brick','Tensile Strength'] = 5\n",
        "data.loc['Concrete','Tensile Strength'] = 1\n",
        "data.loc['Stone','Tensile Strength'] = 2\n"
      ],
      "execution_count": 0,
      "outputs": []
    },
    {
      "cell_type": "code",
      "metadata": {
        "id": "Ec-u5acILfmM",
        "colab_type": "code",
        "colab": {}
      },
      "source": [
        "data.loc['Cast Iron','Price per Kg'] = .54\n",
        "data.loc['High Carbon Steel','Price per Kg'] = .52\n",
        "data.loc['Low Alloy Steel','Price per Kg'] = .56\n",
        "data.loc['Low Carbon Steel','Price per Kg'] = .52\n",
        "data.loc['Medium Carbon Steel','Price per Kg'] = .52\n",
        "data.loc['Stainless Steel','Price per Kg'] = 5.9\n",
        "data.loc['Aluminum Alloys','Price per Kg'] = 2.1\n",
        "data.loc['Copper Alloys','Price per Kg'] = 7.1\n",
        "data.loc['Lead Alloys','Price per Kg'] = 6.9\n",
        "data.loc['Magnesium Alloys','Price per Kg'] = 3.1\n",
        "data.loc['Nickel Alloys','Price per Kg'] = 17\n",
        "# data.loc['Silver','Price per Kg'] = 650\n",
        "data.loc['Tin','Price per Kg'] = 23\n",
        "data.loc['Titanium Alloys','Price per Kg'] = 22\n",
        "data.loc['Tungsten Alloys','Price per Kg'] = 51\n",
        "data.loc['Zinc Alloys','Price per Kg'] = 2.4\n",
        "data.loc['Borosilicate Glass','Price per Kg'] = 4.5\n",
        "data.loc['Silica Glass','Price per Kg'] = 6.2\n",
        "# data.loc['Soda Lime Glass','Price per Kg'] = 1.4\n",
        "data.loc['Alumina','Price per Kg'] = 18\n",
        "data.loc['Aluminium Nitride','Price per Kg'] = 100\n",
        "data.loc['Silicon','Price per Kg'] = 9.1\n",
        "data.loc['Silicon Carbide','Price per Kg'] = 15\n",
        "data.loc['Tungsten Carbide','Price per Kg'] = 19\n",
        "data.loc['Brick','Price per Kg'] = .62\n",
        "data.loc['Concrete','Price per Kg'] = .04\n",
        "data.loc['Stone','Price per Kg'] = .41\n",
        "\n",
        "\n",
        "\n",
        "\n",
        " "
      ],
      "execution_count": 0,
      "outputs": []
    },
    {
      "cell_type": "code",
      "metadata": {
        "id": "ZVlSOwyf8H47",
        "colab_type": "code",
        "outputId": "dcb21cdd-4395-4e4d-bb25-fb4e69c499a7",
        "colab": {
          "base_uri": "https://localhost:8080/",
          "height": 153
        }
      },
      "source": [
        "data.head(30)\n",
        "print(data.index)"
      ],
      "execution_count": 0,
      "outputs": [
        {
          "output_type": "stream",
          "text": [
            "Index(['Cast Iron', 'High Carbon Steel', 'Low Alloy Steel', 'Low Carbon Steel',\n",
            "       'Medium Carbon Steel', 'Stainless Steel', 'Aluminum Alloys',\n",
            "       'Copper Alloys', 'Lead Alloys', 'Magnesium Alloys', 'Nickel Alloys',\n",
            "       'Tin', 'Titanium Alloys', 'Tungsten Alloys', 'Zinc Alloys',\n",
            "       'Borosilicate Glass', 'Silica Glass', 'Alumina', 'Aluminium Nitride',\n",
            "       'Silicon', 'Silicon Carbide', 'Tungsten Carbide', 'Brick', 'Concrete',\n",
            "       'Stone'],\n",
            "      dtype='object')\n"
          ],
          "name": "stdout"
        }
      ]
    },
    {
      "cell_type": "code",
      "metadata": {
        "id": "Vk4rxP7-KQMn",
        "colab_type": "code",
        "outputId": "5e20efaf-6236-4218-f596-902c3b9bc5a0",
        "colab": {
          "base_uri": "https://localhost:8080/",
          "height": 1000
        }
      },
      "source": [
        "fig1 = px.scatter_3d(data_frame=data, x='Melting Point', y='Thermal Conductivity', z='Tensile Strength',\n",
        "                     color='Price per Kg',\n",
        "                     hover_name = data.index,\n",
        "                     size_max=10,\n",
        "                     height = 1000,\n",
        "                     width = 1000,\n",
        "                     )\n",
        "fig1.write_html('chart.html')\n",
        "# fig1.write_image('chart.png')\n",
        "fig1.show()"
      ],
      "execution_count": 0,
      "outputs": [
        {
          "output_type": "display_data",
          "data": {
            "text/html": [
              "<html>\n",
              "<head><meta charset=\"utf-8\" /></head>\n",
              "<body>\n",
              "    <div>\n",
              "            <script src=\"https://cdnjs.cloudflare.com/ajax/libs/mathjax/2.7.5/MathJax.js?config=TeX-AMS-MML_SVG\"></script><script type=\"text/javascript\">if (window.MathJax) {MathJax.Hub.Config({SVG: {font: \"STIX-Web\"}});}</script>\n",
              "                <script type=\"text/javascript\">window.PlotlyConfig = {MathJaxConfig: 'local'};</script>\n",
              "        <script src=\"https://cdn.plot.ly/plotly-latest.min.js\"></script>    \n",
              "            <div id=\"21548821-3c47-41b9-a7a0-fdaf4eb789fa\" class=\"plotly-graph-div\" style=\"height:1000px; width:1000px;\"></div>\n",
              "            <script type=\"text/javascript\">\n",
              "                \n",
              "                    window.PLOTLYENV=window.PLOTLYENV || {};\n",
              "                    \n",
              "                if (document.getElementById(\"21548821-3c47-41b9-a7a0-fdaf4eb789fa\")) {\n",
              "                    Plotly.newPlot(\n",
              "                        '21548821-3c47-41b9-a7a0-fdaf4eb789fa',\n",
              "                        [{\"hoverlabel\": {\"namelength\": 0}, \"hovertemplate\": \"<b>%{hovertext}</b><br><br>Melting Point=%{x}<br>Thermal Conductivity=%{y}<br>Tensile Strength=%{z}<br>Price per Kg=%{marker.color}\", \"hovertext\": [\"Cast Iron\", \"High Carbon Steel\", \"Low Alloy Steel\", \"Low Carbon Steel\", \"Medium Carbon Steel\", \"Stainless Steel\", \"Aluminum Alloys\", \"Copper Alloys\", \"Lead Alloys\", \"Magnesium Alloys\", \"Nickel Alloys\", \"Tin\", \"Titanium Alloys\", \"Tungsten Alloys\", \"Zinc Alloys\", \"Borosilicate Glass\", \"Silica Glass\", \"Alumina\", \"Aluminium Nitride\", \"Silicon\", \"Silicon Carbide\", \"Tungsten Carbide\", \"Brick\", \"Concrete\", \"Stone\"], \"legendgroup\": \"\", \"marker\": {\"color\": [0.54, 0.52, 0.56, 0.52, 0.52, 5.9, 2.1, 7.1, 6.9, 3.1, 17.0, 23.0, 22.0, 51.0, 2.4, 4.5, 6.2, 18.0, 100.0, 9.1, 15.0, 19.0, 0.62, 0.04, 0.41], \"coloraxis\": \"coloraxis\", \"symbol\": \"circle\"}, \"mode\": \"markers\", \"name\": \"\", \"scene\": \"scene\", \"showlegend\": false, \"type\": \"scatter3d\", \"x\": [1100, 1300, 1400, 1470, 1400, 1350, 470, 980, 320, 450, 1400, 230, 1500, 3200, 370, 450, 960, 200, 2400, 1400, 2200, 2800, 930, 930, 1200], \"y\": [29, 40, 34, 34, 45, 12, 76, 160, 22, 50, 67, 60, 7, 100, 100, 1, 1.4, 26, 140, 140, 80, 0.55, 0.46, 0.8, 5.4], \"z\": [410, 550, 550, 350, 410, 480, 58, 100, 12, 190, 350, 11, 300, 720, 140, 22, 45, 350, 300, 160, 400, 310, 5, 1, 2]}],\n",
              "                        {\"coloraxis\": {\"colorbar\": {\"title\": {\"text\": \"Price per Kg\"}}, \"colorscale\": [[0.0, \"#0d0887\"], [0.1111111111111111, \"#46039f\"], [0.2222222222222222, \"#7201a8\"], [0.3333333333333333, \"#9c179e\"], [0.4444444444444444, \"#bd3786\"], [0.5555555555555556, \"#d8576b\"], [0.6666666666666666, \"#ed7953\"], [0.7777777777777778, \"#fb9f3a\"], [0.8888888888888888, \"#fdca26\"], [1.0, \"#f0f921\"]]}, \"height\": 1000, \"legend\": {\"tracegroupgap\": 0}, \"margin\": {\"t\": 60}, \"scene\": {\"domain\": {\"x\": [0.0, 1.0], \"y\": [0.0, 1.0]}, \"xaxis\": {\"title\": {\"text\": \"Melting Point\"}}, \"yaxis\": {\"title\": {\"text\": \"Thermal Conductivity\"}}, \"zaxis\": {\"title\": {\"text\": \"Tensile Strength\"}}}, \"template\": {\"data\": {\"bar\": [{\"error_x\": {\"color\": \"#2a3f5f\"}, \"error_y\": {\"color\": \"#2a3f5f\"}, \"marker\": {\"line\": {\"color\": \"#E5ECF6\", \"width\": 0.5}}, \"type\": \"bar\"}], \"barpolar\": [{\"marker\": {\"line\": {\"color\": \"#E5ECF6\", \"width\": 0.5}}, \"type\": \"barpolar\"}], \"carpet\": [{\"aaxis\": {\"endlinecolor\": \"#2a3f5f\", \"gridcolor\": \"white\", \"linecolor\": \"white\", \"minorgridcolor\": \"white\", \"startlinecolor\": \"#2a3f5f\"}, \"baxis\": {\"endlinecolor\": \"#2a3f5f\", \"gridcolor\": \"white\", \"linecolor\": \"white\", \"minorgridcolor\": \"white\", \"startlinecolor\": \"#2a3f5f\"}, \"type\": \"carpet\"}], \"choropleth\": [{\"colorbar\": {\"outlinewidth\": 0, \"ticks\": \"\"}, \"type\": \"choropleth\"}], \"contour\": [{\"colorbar\": {\"outlinewidth\": 0, \"ticks\": \"\"}, \"colorscale\": [[0.0, \"#0d0887\"], [0.1111111111111111, \"#46039f\"], [0.2222222222222222, \"#7201a8\"], [0.3333333333333333, \"#9c179e\"], [0.4444444444444444, \"#bd3786\"], [0.5555555555555556, \"#d8576b\"], [0.6666666666666666, \"#ed7953\"], [0.7777777777777778, \"#fb9f3a\"], [0.8888888888888888, \"#fdca26\"], [1.0, \"#f0f921\"]], \"type\": \"contour\"}], \"contourcarpet\": [{\"colorbar\": {\"outlinewidth\": 0, \"ticks\": \"\"}, \"type\": \"contourcarpet\"}], \"heatmap\": [{\"colorbar\": {\"outlinewidth\": 0, \"ticks\": \"\"}, \"colorscale\": [[0.0, \"#0d0887\"], [0.1111111111111111, \"#46039f\"], [0.2222222222222222, \"#7201a8\"], [0.3333333333333333, \"#9c179e\"], [0.4444444444444444, \"#bd3786\"], [0.5555555555555556, \"#d8576b\"], [0.6666666666666666, \"#ed7953\"], [0.7777777777777778, \"#fb9f3a\"], [0.8888888888888888, \"#fdca26\"], [1.0, \"#f0f921\"]], \"type\": \"heatmap\"}], \"heatmapgl\": [{\"colorbar\": {\"outlinewidth\": 0, \"ticks\": \"\"}, \"colorscale\": [[0.0, \"#0d0887\"], [0.1111111111111111, \"#46039f\"], [0.2222222222222222, \"#7201a8\"], [0.3333333333333333, \"#9c179e\"], [0.4444444444444444, \"#bd3786\"], [0.5555555555555556, \"#d8576b\"], [0.6666666666666666, \"#ed7953\"], [0.7777777777777778, \"#fb9f3a\"], [0.8888888888888888, \"#fdca26\"], [1.0, \"#f0f921\"]], \"type\": \"heatmapgl\"}], \"histogram\": [{\"marker\": {\"colorbar\": {\"outlinewidth\": 0, \"ticks\": \"\"}}, \"type\": \"histogram\"}], \"histogram2d\": [{\"colorbar\": {\"outlinewidth\": 0, \"ticks\": \"\"}, \"colorscale\": [[0.0, \"#0d0887\"], [0.1111111111111111, \"#46039f\"], [0.2222222222222222, \"#7201a8\"], [0.3333333333333333, \"#9c179e\"], [0.4444444444444444, \"#bd3786\"], [0.5555555555555556, \"#d8576b\"], [0.6666666666666666, \"#ed7953\"], [0.7777777777777778, \"#fb9f3a\"], [0.8888888888888888, \"#fdca26\"], [1.0, \"#f0f921\"]], \"type\": \"histogram2d\"}], \"histogram2dcontour\": [{\"colorbar\": {\"outlinewidth\": 0, \"ticks\": \"\"}, \"colorscale\": [[0.0, \"#0d0887\"], [0.1111111111111111, \"#46039f\"], [0.2222222222222222, \"#7201a8\"], [0.3333333333333333, \"#9c179e\"], [0.4444444444444444, \"#bd3786\"], [0.5555555555555556, \"#d8576b\"], [0.6666666666666666, \"#ed7953\"], [0.7777777777777778, \"#fb9f3a\"], [0.8888888888888888, \"#fdca26\"], [1.0, \"#f0f921\"]], \"type\": \"histogram2dcontour\"}], \"mesh3d\": [{\"colorbar\": {\"outlinewidth\": 0, \"ticks\": \"\"}, \"type\": \"mesh3d\"}], \"parcoords\": [{\"line\": {\"colorbar\": {\"outlinewidth\": 0, \"ticks\": \"\"}}, \"type\": \"parcoords\"}], \"pie\": [{\"automargin\": true, \"type\": \"pie\"}], \"scatter\": [{\"marker\": {\"colorbar\": {\"outlinewidth\": 0, \"ticks\": \"\"}}, \"type\": \"scatter\"}], \"scatter3d\": [{\"line\": {\"colorbar\": {\"outlinewidth\": 0, \"ticks\": \"\"}}, \"marker\": {\"colorbar\": {\"outlinewidth\": 0, \"ticks\": \"\"}}, \"type\": \"scatter3d\"}], \"scattercarpet\": [{\"marker\": {\"colorbar\": {\"outlinewidth\": 0, \"ticks\": \"\"}}, \"type\": \"scattercarpet\"}], \"scattergeo\": [{\"marker\": {\"colorbar\": {\"outlinewidth\": 0, \"ticks\": \"\"}}, \"type\": \"scattergeo\"}], \"scattergl\": [{\"marker\": {\"colorbar\": {\"outlinewidth\": 0, \"ticks\": \"\"}}, \"type\": \"scattergl\"}], \"scattermapbox\": [{\"marker\": {\"colorbar\": {\"outlinewidth\": 0, \"ticks\": \"\"}}, \"type\": \"scattermapbox\"}], \"scatterpolar\": [{\"marker\": {\"colorbar\": {\"outlinewidth\": 0, \"ticks\": \"\"}}, \"type\": \"scatterpolar\"}], \"scatterpolargl\": [{\"marker\": {\"colorbar\": {\"outlinewidth\": 0, \"ticks\": \"\"}}, \"type\": \"scatterpolargl\"}], \"scatterternary\": [{\"marker\": {\"colorbar\": {\"outlinewidth\": 0, \"ticks\": \"\"}}, \"type\": \"scatterternary\"}], \"surface\": [{\"colorbar\": {\"outlinewidth\": 0, \"ticks\": \"\"}, \"colorscale\": [[0.0, \"#0d0887\"], [0.1111111111111111, \"#46039f\"], [0.2222222222222222, \"#7201a8\"], [0.3333333333333333, \"#9c179e\"], [0.4444444444444444, \"#bd3786\"], [0.5555555555555556, \"#d8576b\"], [0.6666666666666666, \"#ed7953\"], [0.7777777777777778, \"#fb9f3a\"], [0.8888888888888888, \"#fdca26\"], [1.0, \"#f0f921\"]], \"type\": \"surface\"}], \"table\": [{\"cells\": {\"fill\": {\"color\": \"#EBF0F8\"}, \"line\": {\"color\": \"white\"}}, \"header\": {\"fill\": {\"color\": \"#C8D4E3\"}, \"line\": {\"color\": \"white\"}}, \"type\": \"table\"}]}, \"layout\": {\"annotationdefaults\": {\"arrowcolor\": \"#2a3f5f\", \"arrowhead\": 0, \"arrowwidth\": 1}, \"coloraxis\": {\"colorbar\": {\"outlinewidth\": 0, \"ticks\": \"\"}}, \"colorscale\": {\"diverging\": [[0, \"#8e0152\"], [0.1, \"#c51b7d\"], [0.2, \"#de77ae\"], [0.3, \"#f1b6da\"], [0.4, \"#fde0ef\"], [0.5, \"#f7f7f7\"], [0.6, \"#e6f5d0\"], [0.7, \"#b8e186\"], [0.8, \"#7fbc41\"], [0.9, \"#4d9221\"], [1, \"#276419\"]], \"sequential\": [[0.0, \"#0d0887\"], [0.1111111111111111, \"#46039f\"], [0.2222222222222222, \"#7201a8\"], [0.3333333333333333, \"#9c179e\"], [0.4444444444444444, \"#bd3786\"], [0.5555555555555556, \"#d8576b\"], [0.6666666666666666, \"#ed7953\"], [0.7777777777777778, \"#fb9f3a\"], [0.8888888888888888, \"#fdca26\"], [1.0, \"#f0f921\"]], \"sequentialminus\": [[0.0, \"#0d0887\"], [0.1111111111111111, \"#46039f\"], [0.2222222222222222, \"#7201a8\"], [0.3333333333333333, \"#9c179e\"], [0.4444444444444444, \"#bd3786\"], [0.5555555555555556, \"#d8576b\"], [0.6666666666666666, \"#ed7953\"], [0.7777777777777778, \"#fb9f3a\"], [0.8888888888888888, \"#fdca26\"], [1.0, \"#f0f921\"]]}, \"colorway\": [\"#636efa\", \"#EF553B\", \"#00cc96\", \"#ab63fa\", \"#FFA15A\", \"#19d3f3\", \"#FF6692\", \"#B6E880\", \"#FF97FF\", \"#FECB52\"], \"font\": {\"color\": \"#2a3f5f\"}, \"geo\": {\"bgcolor\": \"white\", \"lakecolor\": \"white\", \"landcolor\": \"#E5ECF6\", \"showlakes\": true, \"showland\": true, \"subunitcolor\": \"white\"}, \"hoverlabel\": {\"align\": \"left\"}, \"hovermode\": \"closest\", \"mapbox\": {\"style\": \"light\"}, \"paper_bgcolor\": \"white\", \"plot_bgcolor\": \"#E5ECF6\", \"polar\": {\"angularaxis\": {\"gridcolor\": \"white\", \"linecolor\": \"white\", \"ticks\": \"\"}, \"bgcolor\": \"#E5ECF6\", \"radialaxis\": {\"gridcolor\": \"white\", \"linecolor\": \"white\", \"ticks\": \"\"}}, \"scene\": {\"xaxis\": {\"backgroundcolor\": \"#E5ECF6\", \"gridcolor\": \"white\", \"gridwidth\": 2, \"linecolor\": \"white\", \"showbackground\": true, \"ticks\": \"\", \"zerolinecolor\": \"white\"}, \"yaxis\": {\"backgroundcolor\": \"#E5ECF6\", \"gridcolor\": \"white\", \"gridwidth\": 2, \"linecolor\": \"white\", \"showbackground\": true, \"ticks\": \"\", \"zerolinecolor\": \"white\"}, \"zaxis\": {\"backgroundcolor\": \"#E5ECF6\", \"gridcolor\": \"white\", \"gridwidth\": 2, \"linecolor\": \"white\", \"showbackground\": true, \"ticks\": \"\", \"zerolinecolor\": \"white\"}}, \"shapedefaults\": {\"line\": {\"color\": \"#2a3f5f\"}}, \"ternary\": {\"aaxis\": {\"gridcolor\": \"white\", \"linecolor\": \"white\", \"ticks\": \"\"}, \"baxis\": {\"gridcolor\": \"white\", \"linecolor\": \"white\", \"ticks\": \"\"}, \"bgcolor\": \"#E5ECF6\", \"caxis\": {\"gridcolor\": \"white\", \"linecolor\": \"white\", \"ticks\": \"\"}}, \"title\": {\"x\": 0.05}, \"xaxis\": {\"automargin\": true, \"gridcolor\": \"white\", \"linecolor\": \"white\", \"ticks\": \"\", \"title\": {\"standoff\": 15}, \"zerolinecolor\": \"white\", \"zerolinewidth\": 2}, \"yaxis\": {\"automargin\": true, \"gridcolor\": \"white\", \"linecolor\": \"white\", \"ticks\": \"\", \"title\": {\"standoff\": 15}, \"zerolinecolor\": \"white\", \"zerolinewidth\": 2}}}, \"width\": 1000},\n",
              "                        {\"responsive\": true}\n",
              "                    ).then(function(){\n",
              "                            \n",
              "var gd = document.getElementById('21548821-3c47-41b9-a7a0-fdaf4eb789fa');\n",
              "var x = new MutationObserver(function (mutations, observer) {{\n",
              "        var display = window.getComputedStyle(gd).display;\n",
              "        if (!display || display === 'none') {{\n",
              "            console.log([gd, 'removed!']);\n",
              "            Plotly.purge(gd);\n",
              "            observer.disconnect();\n",
              "        }}\n",
              "}});\n",
              "\n",
              "// Listen for the removal of the full notebook cells\n",
              "var notebookContainer = gd.closest('#notebook-container');\n",
              "if (notebookContainer) {{\n",
              "    x.observe(notebookContainer, {childList: true});\n",
              "}}\n",
              "\n",
              "// Listen for the clearing of the current output cell\n",
              "var outputEl = gd.closest('.output');\n",
              "if (outputEl) {{\n",
              "    x.observe(outputEl, {childList: true});\n",
              "}}\n",
              "\n",
              "                        })\n",
              "                };\n",
              "                \n",
              "            </script>\n",
              "        </div>\n",
              "</body>\n",
              "</html>"
            ]
          },
          "metadata": {
            "tags": []
          }
        }
      ]
    },
    {
      "cell_type": "code",
      "metadata": {
        "id": "z0PyCJf2KpmK",
        "colab_type": "code",
        "colab": {}
      },
      "source": [
        ""
      ],
      "execution_count": 0,
      "outputs": []
    }
  ]
}